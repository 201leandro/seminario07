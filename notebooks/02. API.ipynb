{
 "cells": [
  {
   "cell_type": "markdown",
   "metadata": {},
   "source": [
    "# Criando uma API Rest (Python/Django)"
   ]
  },
  {
   "cell_type": "markdown",
   "metadata": {},
   "source": [
    "### 01. Configurando o ambiente"
   ]
  },
  {
   "cell_type": "markdown",
   "metadata": {},
   "source": [
    "#### A. Criando a virtualenv"
   ]
  },
  {
   "cell_type": "code",
   "execution_count": null,
   "metadata": {},
   "outputs": [],
   "source": [
    "# virtualenv <nome da venv>\n",
    "virtualenv titanicenv"
   ]
  },
  {
   "cell_type": "markdown",
   "metadata": {},
   "source": [
    "#### B. Ativando a virtualenv "
   ]
  },
  {
   "cell_type": "code",
   "execution_count": null,
   "metadata": {},
   "outputs": [],
   "source": [
    "titanicenv\\Scripts\\activate"
   ]
  },
  {
   "cell_type": "markdown",
   "metadata": {},
   "source": [
    "#### C. Instalando os requisitos"
   ]
  },
  {
   "cell_type": "code",
   "execution_count": null,
   "metadata": {},
   "outputs": [],
   "source": [
    "pip install -r requirements.txt"
   ]
  },
  {
   "cell_type": "markdown",
   "metadata": {},
   "source": [
    "**Arquivo: requirements.txt**\n",
    "\n",
    "`\n",
    "Django==2.0.4\n",
    "django-cors-headers==2.2.0\n",
    "djangorestframework==3.8.2\n",
    "psycopg2==2.7.4\n",
    "pytz==2018.4`"
   ]
  },
  {
   "cell_type": "markdown",
   "metadata": {},
   "source": [
    "### 02. Criando o projeto Django"
   ]
  },
  {
   "cell_type": "code",
   "execution_count": null,
   "metadata": {},
   "outputs": [],
   "source": [
    "# django-admin startproject <nome do projeto> .\n",
    "django-admin startproject config ."
   ]
  },
  {
   "cell_type": "markdown",
   "metadata": {},
   "source": [
    "#### A árvore de arquivos deve estar:\n",
    "\n",
    "`\n",
    "/\n",
    "   config/\n",
    "      __init__.py\n",
    "      settings.py\n",
    "      urls.py\n",
    "      wsgi.py\n",
    "   titanicenv/\n",
    "   manage.py\n",
    "   requirements.txt\n",
    "`"
   ]
  },
  {
   "cell_type": "markdown",
   "metadata": {},
   "source": [
    "### 03. Configurações iniciais do projeto"
   ]
  },
  {
   "cell_type": "markdown",
   "metadata": {},
   "source": [
    "#### A.  Banco de dados"
   ]
  },
  {
   "cell_type": "markdown",
   "metadata": {},
   "source": [
    "Abra o arquivo **settings.py**, que está dentro da pasta config, e procure a lista **DATABASES**.\n",
    "\n",
    "Ela estará assim:\n",
    "\n",
    "```python\n",
    "DATABASES = {\n",
    "    'default': {\n",
    "        'ENGINE': 'django.db.backends.sqlite3',\n",
    "        'NAME': os.path.join(BASE_DIR, 'db.sqlite3'),\n",
    "    }\n",
    "}\n",
    "```\n",
    "\n",
    "Vamos mudá-la para:\n",
    "\n",
    "```python\n",
    "DATABASES = {\n",
    "    'default': {\n",
    "        'ENGINE': 'django.db.backends.postgresql_psycopg2',\n",
    "        'NAME': 'xxx', # Nome do seu banco de dados\n",
    "        'USER': 'xxx', # Nome do seu usuário do banco de dados\n",
    "        'PASSWORD': 'xxx', # Senha do seu usuário do banco de dados\n",
    "        'HOST': '127.0.0.1',\n",
    "        'PORT': ''\n",
    "    }\n",
    "}\n",
    "```\n",
    "\n",
    "Assim, estamos configurando nosso projeto para usar o PostgreSQL.\n",
    "\n",
    "Para testar a conexão com o banco, rodamos:"
   ]
  },
  {
   "cell_type": "code",
   "execution_count": null,
   "metadata": {},
   "outputs": [],
   "source": [
    "python manage.py migrate"
   ]
  },
  {
   "cell_type": "markdown",
   "metadata": {},
   "source": [
    "Esse comando cria no banco de dados as tabelas padrões do framework Django.\n",
    "Se a conexão com o banco estiver ok, a saída no terminal será:\n",
    "\n",
    "`\n",
    "Operations to perform:\n",
    "  Apply all migrations: admin, auth, contenttypes, sessions\n",
    "Running migrations:\n",
    "  Applying contenttypes.0001_initial... OK\n",
    "  Applying auth.0001_initial... OK\n",
    "  Applying admin.0001_initial... OK\n",
    "  Applying admin.0002_logentry_remove_auto_add... OK\n",
    "  Applying contenttypes.0002_remove_content_type_name... OK\n",
    "  Applying auth.0002_alter_permission_name_max_length... OK\n",
    "  Applying auth.0003_alter_user_email_max_length... OK\n",
    "  Applying auth.0004_alter_user_username_opts... OK\n",
    "  Applying auth.0005_alter_user_last_login_null... OK\n",
    "  Applying auth.0006_require_contenttypes_0002... OK\n",
    "  Applying auth.0007_alter_validators_add_error_messages... OK\n",
    "  Applying auth.0008_alter_user_username_max_length... OK\n",
    "  Applying auth.0009_alter_user_last_name_max_length... OK\n",
    "  Applying sessions.0001_initial... OK\n",
    "`"
   ]
  },
  {
   "cell_type": "markdown",
   "metadata": {},
   "source": [
    "#### B. Configuração do Django Rest Framework"
   ]
  },
  {
   "cell_type": "markdown",
   "metadata": {},
   "source": [
    "Ainda dentro do arquivo **settings.py**, procure a lista **INSTALLED_APPS**, de adicione no final da lista os dois seguintes apps:\n",
    "\n",
    "```python\n",
    "INSTALLED_APPS = [\n",
    "    ...\n",
    "    'corsheaders',\n",
    "    'rest_framework',\n",
    "]\n",
    "```"
   ]
  },
  {
   "cell_type": "markdown",
   "metadata": {},
   "source": [
    "No final do arquivo **settings.py**, adicione o seguinte código:\n",
    "\n",
    "```python\n",
    "REST_FRAMEWORK = {\n",
    "    'DEFAULT_AUTHENTICATION_CLASSES': [],\n",
    "    'DEFAULT_PERMISSION_CLASSES': [],\n",
    "}\n",
    "\n",
    "CORS_ORIGIN_ALLOW_ALL = True\n",
    "```"
   ]
  },
  {
   "cell_type": "markdown",
   "metadata": {},
   "source": [
    "Ainda no arquivo **settings.py**, troque a lista padrão **MIDDLEWARE** para a seguinte lista:\n",
    "\n",
    "```python\n",
    "MIDDLEWARE = [\n",
    "    'corsheaders.middleware.CorsMiddleware',\n",
    "    'django.middleware.common.CommonMiddleware',\n",
    "    'django.middleware.security.SecurityMiddleware',\n",
    "    'django.contrib.sessions.middleware.SessionMiddleware',\n",
    "    'django.middleware.common.CommonMiddleware',\n",
    "    'django.middleware.csrf.CsrfViewMiddleware',\n",
    "    'django.contrib.auth.middleware.AuthenticationMiddleware',\n",
    "    'django.contrib.messages.middleware.MessageMiddleware',\n",
    "    'django.middleware.clickjacking.XFrameOptionsMiddleware',\n",
    "]\n",
    "```"
   ]
  },
  {
   "cell_type": "markdown",
   "metadata": {},
   "source": [
    "### 04. Criação do app \"titanic\""
   ]
  },
  {
   "cell_type": "markdown",
   "metadata": {},
   "source": [
    "Crie uma pasta chamada \"project\" na raiz do projeto. Nesta pasta ficarão os apps do sistema. A árvore de arquivos ficará:\n",
    "\n",
    "```\n",
    "/\n",
    "   config/\n",
    "      __init__.py\n",
    "      settings.py\n",
    "      urls.py\n",
    "      wsgi.py\n",
    "   project/\n",
    "   titanicenv/\n",
    "   manage.py\n",
    "   requirements.txt\n",
    "```"
   ]
  },
  {
   "cell_type": "markdown",
   "metadata": {},
   "source": [
    "Entre dentro da pasta project com o terminal:\n",
    "\n",
    "```\n",
    "cd  project\n",
    "```"
   ]
  },
  {
   "cell_type": "markdown",
   "metadata": {},
   "source": [
    "Dentro da pasta project, rode o seguinte comando para criar o app \"titanic\":\n",
    "\n",
    "```python\n",
    "python ../manage.py startapp titanic\n",
    "```"
   ]
  },
  {
   "cell_type": "markdown",
   "metadata": {},
   "source": [
    "A árvore de arquivos ficará:\n",
    "\n",
    "```\n",
    "/\n",
    "   config/\n",
    "      __init__.py\n",
    "      settings.py\n",
    "      urls.py\n",
    "      wsgi.py\n",
    "   project/\n",
    "      titanic/\n",
    "         migrations/\n",
    "         __init__.py\n",
    "         admin.py\n",
    "         apps.py\n",
    "         models.py\n",
    "         tests.py\n",
    "         views.py\n",
    "   titanicenv/\n",
    "   manage.py\n",
    "   requirements.txt\n",
    "```"
   ]
  },
  {
   "cell_type": "markdown",
   "metadata": {},
   "source": [
    "Precisamos agora instalar nosso app. Volte até o arquivo **settings.py**, procure novamente a lista **INSTALLED_APPS**, e adicione o app titanic no final da lista, da seguinte forma:\n",
    "\n",
    "\n",
    "```python\n",
    "INSTALLED_APPS = [\n",
    "    ...\n",
    "    'project.titanic',\n",
    "]\n",
    "```"
   ]
  },
  {
   "cell_type": "markdown",
   "metadata": {},
   "source": [
    "### 04. Criação da API \"titanic\": Models"
   ]
  },
  {
   "cell_type": "markdown",
   "metadata": {},
   "source": [
    "Dentro da pasta **titanic**, abra o arquivo **models.py**. Substitua o conteúdo do arquivo pelo seguinte código:"
   ]
  },
  {
   "cell_type": "code",
   "execution_count": null,
   "metadata": {},
   "outputs": [],
   "source": [
    "from django.db import models\n",
    "\n",
    "\n",
    "class TitanicPeople(models.Model):\n",
    "\n",
    "    passengerid = models.PositiveIntegerField(\n",
    "        primary_key=True\n",
    "    )\n",
    "    survived = models.BooleanField(\n",
    "        default=False\n",
    "    )\n",
    "    pclass = models.IntegerField(\n",
    "        blank=True,\n",
    "        null=True\n",
    "    )\n",
    "    name = models.CharField(\n",
    "        max_length=100,\n",
    "        blank=True,\n",
    "        null=True\n",
    "    )\n",
    "    sex = models.CharField(\n",
    "        max_length=6,\n",
    "        blank=True,\n",
    "        null=True\n",
    "    )\n",
    "    age = models.IntegerField(\n",
    "        blank=True,\n",
    "        null=True\n",
    "    )\n",
    "    Sibsp = models.IntegerField(\n",
    "        blank=True,\n",
    "        null=True\n",
    "    )\n",
    "    parch = models.IntegerField(\n",
    "        blank=True,\n",
    "        null=True\n",
    "    )\n",
    "    ticket = models.CharField(\n",
    "        max_length=20,\n",
    "        blank=True,\n",
    "        null=True\n",
    "    )\n",
    "    fare = models.DecimalField(\n",
    "        max_digits=12,\n",
    "        decimal_places=4,\n",
    "        blank=True, \n",
    "        null=True\n",
    "    )\n",
    "    cabin = models.CharField(\n",
    "        max_length=20,\n",
    "        blank=True,\n",
    "        null=True\n",
    "    )\n",
    "    embarked = models.CharField(\n",
    "        max_length=1,\n",
    "        blank=True,\n",
    "        null=True\n",
    "    )\n"
   ]
  },
  {
   "cell_type": "markdown",
   "metadata": {},
   "source": [
    "Em seguida, execute esses dois comandos (nesta ordem) para criar a tabela no banco de dados:"
   ]
  },
  {
   "cell_type": "markdown",
   "metadata": {},
   "source": [
    "`\n",
    "python manage.py makemigrations\n",
    "python manage.py migrate\n",
    "`"
   ]
  },
  {
   "cell_type": "markdown",
   "metadata": {},
   "source": [
    "Repare que foi criada uma tabela chamada **titanic_titanicpeople** em seu banco de dados. "
   ]
  },
  {
   "cell_type": "markdown",
   "metadata": {},
   "source": [
    "### 05. Criação da API \"titanic\": Serializers"
   ]
  },
  {
   "cell_type": "markdown",
   "metadata": {},
   "source": [
    "Dentro da pasta **titanic**, crie um arquivo chamado **serializers.py**. O conteúdo do arquivo deve ser o seguinte código:"
   ]
  },
  {
   "cell_type": "code",
   "execution_count": null,
   "metadata": {},
   "outputs": [],
   "source": [
    "from rest_framework import serializers\n",
    "\n",
    "from .models import TitanicPeople\n",
    "\n",
    "\n",
    "class TitanicPeopleSerializer(serializers.ModelSerializer):\n",
    "\n",
    "    class Meta:\n",
    "        model = TitanicPeople\n",
    "        fields = '__all__'"
   ]
  },
  {
   "cell_type": "markdown",
   "metadata": {},
   "source": [
    "### 06. Criação da API \"titanic\": Views"
   ]
  },
  {
   "cell_type": "markdown",
   "metadata": {},
   "source": [
    "Dentro da pasta **titanic**, abra o arquivo **views.py**. Substitua o conteúdo do arquivo pelo seguinte código:"
   ]
  },
  {
   "cell_type": "code",
   "execution_count": null,
   "metadata": {},
   "outputs": [],
   "source": [
    "from rest_framework import viewsets\n",
    "\n",
    "from .serializers import TitanicPeopleSerializer\n",
    "from .models import TitanicPeople\n",
    "\n",
    "\n",
    "class TitanicPeopleViewSet(viewsets.ModelViewSet):\n",
    "    \n",
    "    queryset = TitanicPeople.objects.all()\n",
    "    serializer_class = TitanicPeopleSerializer\n"
   ]
  },
  {
   "cell_type": "markdown",
   "metadata": {},
   "source": [
    "### 07. Criação da API \"titanic\": Rotas"
   ]
  },
  {
   "cell_type": "markdown",
   "metadata": {},
   "source": [
    "Dentro da pasta **config**, abra o arquivo **urls.py**. Substitua o conteúdo do arquivo pelo seguinte código:"
   ]
  },
  {
   "cell_type": "code",
   "execution_count": null,
   "metadata": {},
   "outputs": [],
   "source": [
    "from django.urls import path, include\n",
    "\n",
    "from rest_framework import routers\n",
    "\n",
    "from project.titanic.views import TitanicPeopleViewSet\n",
    "\n",
    "\n",
    "router = routers.DefaultRouter()\n",
    "\n",
    "router.register(r'titanic', TitanicPeopleViewSet)\n",
    "\n",
    "urlpatterns = [\n",
    "    path('', include('rest_framework.urls')),\n",
    "    path('', include(router.urls)),\n",
    "]\n"
   ]
  },
  {
   "cell_type": "markdown",
   "metadata": {},
   "source": [
    "#### Para testar a API, execute:\n",
    "\n",
    "```\n",
    "python manage.py runserver\n",
    "```"
   ]
  },
  {
   "cell_type": "code",
   "execution_count": null,
   "metadata": {},
   "outputs": [],
   "source": []
  }
 ],
 "metadata": {
  "kernelspec": {
   "display_name": "dsenv",
   "language": "python",
   "name": "dsenv"
  },
  "language_info": {
   "codemirror_mode": {
    "name": "ipython",
    "version": 3
   },
   "file_extension": ".py",
   "mimetype": "text/x-python",
   "name": "python",
   "nbconvert_exporter": "python",
   "pygments_lexer": "ipython3",
   "version": "3.6.3"
  }
 },
 "nbformat": 4,
 "nbformat_minor": 2
}
